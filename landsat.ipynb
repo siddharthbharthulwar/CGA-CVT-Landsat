{
  "nbformat": 4,
  "nbformat_minor": 0,
  "metadata": {
    "colab": {
      "name": "landsat.ipynb",
      "provenance": [],
      "authorship_tag": "ABX9TyMb18LcrncAwkwFMDxfRw3R",
      "include_colab_link": true
    },
    "kernelspec": {
      "name": "python3",
      "display_name": "Python 3"
    },
    "widgets": {
      "application/vnd.jupyter.widget-state+json": {
        "4e225a585b6e4968a3d66f1c6473c492": {
          "model_module": "jupyter-leaflet",
          "model_name": "LeafletMapModel",
          "state": {
            "_view_name": "LeafletMapView",
            "keyboard_pan_offset": 80,
            "tap": true,
            "_view_module": "jupyter-leaflet",
            "max_zoom": 18,
            "_model_module_version": "^0.12.6",
            "_view_count": null,
            "min_zoom": 1,
            "bounce_at_zoom_limits": true,
            "keyboard": true,
            "north": 0,
            "scroll_wheel_zoom": true,
            "dragging": true,
            "_model_module": "jupyter-leaflet",
            "close_popup_on_click": true,
            "fullscreen": false,
            "style": "IPY_MODEL_22b0fed3f7464d43be1f02504eba02b0",
            "layout": "IPY_MODEL_b0b91a7dbdda49d7bf6d61fe81fe1e8b",
            "inertia_max_speed": 1500,
            "box_zoom": true,
            "controls": [
              "IPY_MODEL_e46224c401ab4c82a031bb15d3c4bd95",
              "IPY_MODEL_74679f91d36e46b4935df05f054e2385",
              "IPY_MODEL_60a9cb7430ba42339c8cfbd4158487b5",
              "IPY_MODEL_bc9b4b75053e467cbd2f6f422cf26ea5",
              "IPY_MODEL_061d22dcf4df44bcb6d9f2f214e31397",
              "IPY_MODEL_b7ab4dfd8265473f96bb79fa435b9db7",
              "IPY_MODEL_13c2d8c055ec4d3eb7887b8b52c9177d",
              "IPY_MODEL_4160924189b4478cb1640241119460d8",
              "IPY_MODEL_e1b0ec74e41945b0b56c7f3af5b75ca4",
              "IPY_MODEL_57a329afc8fe41aea383be6f3442ea8f",
              "IPY_MODEL_1a8e1c0ed9be41edadfb273cf1010bb4"
            ],
            "default_style": "IPY_MODEL_c89e284f1ef34d979fbed80847f976e8",
            "east": 0,
            "double_click_zoom": true,
            "interpolation": "bilinear",
            "layers": [
              "IPY_MODEL_c1b25913fe6d4efa89d25ac1adc98ee3",
              "IPY_MODEL_4b69cf5830334f29885f03233067fc46"
            ],
            "dragging_style": "IPY_MODEL_d34fe10ce6484125a87c90ba6e8efb79",
            "_dom_classes": [],
            "zoom_animation_threshold": 4,
            "_model_name": "LeafletMapModel",
            "zoom_start": 12,
            "modisdate": "yesterday",
            "keyboard_zoom_offset": 1,
            "inertia_deceleration": 3000,
            "inertia": true,
            "crs": "EPSG3857",
            "center": [
              40,
              -100
            ],
            "zoom": 4,
            "world_copy_jump": false,
            "_view_module_version": "^0.12.6",
            "tap_tolerance": 15,
            "west": 0,
            "touch_zoom": true,
            "options": [
              "bounce_at_zoom_limits",
              "box_zoom",
              "center",
              "close_popup_on_click",
              "double_click_zoom",
              "dragging",
              "fullscreen",
              "inertia",
              "inertia_deceleration",
              "inertia_max_speed",
              "interpolation",
              "keyboard",
              "keyboard_pan_offset",
              "keyboard_zoom_offset",
              "max_zoom",
              "min_zoom",
              "scroll_wheel_zoom",
              "tap",
              "tap_tolerance",
              "touch_zoom",
              "world_copy_jump",
              "zoom",
              "zoom_animation_threshold",
              "zoom_start"
            ],
            "south": 0
          }
        }
      }
    }
  },
  "cells": [
    {
      "cell_type": "markdown",
      "metadata": {
        "id": "view-in-github",
        "colab_type": "text"
      },
      "source": [
        "<a href=\"https://colab.research.google.com/github/siddharthbharthulwar/CGA-CVT-Landsat/blob/master/landsat.ipynb\" target=\"_parent\"><img src=\"https://colab.research.google.com/assets/colab-badge.svg\" alt=\"Open In Colab\"/></a>"
      ]
    },
    {
      "cell_type": "code",
      "metadata": {
        "id": "LB85G4dfMqk3",
        "colab_type": "code",
        "colab": {
          "base_uri": "https://localhost:8080/",
          "height": 1000
        },
        "outputId": "24ebf3c2-82a4-4891-e288-36d091712b7b"
      },
      "source": [
        "!pip install geemap"
      ],
      "execution_count": 2,
      "outputs": [
        {
          "output_type": "stream",
          "text": [
            "Collecting geemap\n",
            "\u001b[?25l  Downloading https://files.pythonhosted.org/packages/2c/27/d03a9121a1a8ed28144f94a5fb19f0a6b1ce79f4fbe4f9ae8f94081ec8de/geemap-0.6.13.tar.gz (262kB)\n",
            "\u001b[K     |████████████████████████████████| 266kB 2.8MB/s \n",
            "\u001b[?25hCollecting bqplot\n",
            "\u001b[?25l  Downloading https://files.pythonhosted.org/packages/f0/aa/4de7c88d85b1140cbbf7350f507a65511f745579bbed9e269e81dd74a2a6/bqplot-0.12.11-py2.py3-none-any.whl (4.7MB)\n",
            "\u001b[K     |████████████████████████████████| 4.7MB 8.7MB/s \n",
            "\u001b[?25hRequirement already satisfied: click in /usr/local/lib/python3.6/dist-packages (from geemap) (7.1.2)\n",
            "Collecting colour\n",
            "  Downloading https://files.pythonhosted.org/packages/74/46/e81907704ab203206769dee1385dc77e1407576ff8f50a0681d0a6b541be/colour-0.1.5-py2.py3-none-any.whl\n",
            "Requirement already satisfied: earthengine-api in /usr/local/lib/python3.6/dist-packages (from geemap) (0.1.221)\n",
            "Collecting folium>=0.11.0\n",
            "\u001b[?25l  Downloading https://files.pythonhosted.org/packages/a4/f0/44e69d50519880287cc41e7c8a6acc58daa9a9acf5f6afc52bcc70f69a6d/folium-0.11.0-py2.py3-none-any.whl (93kB)\n",
            "\u001b[K     |████████████████████████████████| 102kB 10.6MB/s \n",
            "\u001b[?25hCollecting geeadd>=0.4.8\n",
            "  Downloading https://files.pythonhosted.org/packages/ac/1d/9efdf8e4668b0346ad98387cc9f7f4158f7b51867b3554e15f1ffdfdc609/geeadd-0.4.8-py3-none-any.whl\n",
            "Collecting geocoder\n",
            "\u001b[?25l  Downloading https://files.pythonhosted.org/packages/4f/6b/13166c909ad2f2d76b929a4227c952630ebaf0d729f6317eb09cbceccbab/geocoder-1.38.1-py2.py3-none-any.whl (98kB)\n",
            "\u001b[K     |████████████████████████████████| 102kB 10.6MB/s \n",
            "\u001b[?25hCollecting ipyfilechooser\n",
            "  Downloading https://files.pythonhosted.org/packages/02/51/99115ae0ff4f4a0e61b5f5715247214486d6a5a5579a3c7652d42ba542ec/ipyfilechooser-0.3.4-py3-none-any.whl\n",
            "Collecting ipyleaflet>=0.12.6\n",
            "\u001b[?25l  Downloading https://files.pythonhosted.org/packages/0e/ed/dda41283402e51d3a97230d302c4ef9bb84ef5cc58c6d1e6e7c147a68b60/ipyleaflet-0.12.6-py2.py3-none-any.whl (4.7MB)\n",
            "\u001b[K     |████████████████████████████████| 4.7MB 39.4MB/s \n",
            "\u001b[?25hCollecting ipynb-py-convert\n",
            "  Downloading https://files.pythonhosted.org/packages/8a/2b/6029c1aa3a3ea70140038388f9d4e03f1c0e78a11326244491d69a5aedec/ipynb-py-convert-0.4.5.tar.gz\n",
            "Requirement already satisfied: matplotlib in /usr/local/lib/python3.6/dist-packages (from geemap) (3.2.1)\n",
            "Collecting mss\n",
            "\u001b[?25l  Downloading https://files.pythonhosted.org/packages/c3/99/40321da84415268182cc043664050406d38868ab7e29150b9f6419630cfa/mss-5.1.0-py3-none-any.whl (75kB)\n",
            "\u001b[K     |████████████████████████████████| 81kB 7.9MB/s \n",
            "\u001b[?25hRequirement already satisfied: pillow in /usr/local/lib/python3.6/dist-packages (from geemap) (7.0.0)\n",
            "Collecting pyshp\n",
            "\u001b[?25l  Downloading https://files.pythonhosted.org/packages/27/16/3bf15aa864fb77845fab8007eda22c2bd67bd6c1fd13496df452c8c43621/pyshp-2.1.0.tar.gz (215kB)\n",
            "\u001b[K     |████████████████████████████████| 225kB 40.1MB/s \n",
            "\u001b[?25hRequirement already satisfied: traitlets>=4.3.0 in /usr/local/lib/python3.6/dist-packages (from bqplot->geemap) (4.3.3)\n",
            "Requirement already satisfied: numpy>=1.10.4 in /usr/local/lib/python3.6/dist-packages (from bqplot->geemap) (1.18.4)\n",
            "Requirement already satisfied: ipywidgets>=7.5.0 in /usr/local/lib/python3.6/dist-packages (from bqplot->geemap) (7.5.1)\n",
            "Requirement already satisfied: pandas in /usr/local/lib/python3.6/dist-packages (from bqplot->geemap) (1.0.3)\n",
            "Collecting traittypes>=0.0.6\n",
            "  Downloading https://files.pythonhosted.org/packages/9c/d1/8d5bd662703cc1764d986f6908a608777305946fa634d34c470cd4a1e729/traittypes-0.2.1-py2.py3-none-any.whl\n",
            "Requirement already satisfied: six in /usr/local/lib/python3.6/dist-packages (from earthengine-api->geemap) (1.12.0)\n",
            "Requirement already satisfied: google-auth>=1.4.1 in /usr/local/lib/python3.6/dist-packages (from earthengine-api->geemap) (1.7.2)\n",
            "Requirement already satisfied: google-api-python-client in /usr/local/lib/python3.6/dist-packages (from earthengine-api->geemap) (1.7.12)\n",
            "Requirement already satisfied: google-auth-httplib2>=0.0.3 in /usr/local/lib/python3.6/dist-packages (from earthengine-api->geemap) (0.0.3)\n",
            "Requirement already satisfied: future in /usr/local/lib/python3.6/dist-packages (from earthengine-api->geemap) (0.16.0)\n",
            "Requirement already satisfied: google-cloud-storage in /usr/local/lib/python3.6/dist-packages (from earthengine-api->geemap) (1.18.1)\n",
            "Requirement already satisfied: httplib2shim in /usr/local/lib/python3.6/dist-packages (from earthengine-api->geemap) (0.0.3)\n",
            "Requirement already satisfied: httplib2<1dev,>=0.9.2 in /usr/local/lib/python3.6/dist-packages (from earthengine-api->geemap) (0.17.3)\n",
            "Requirement already satisfied: jinja2>=2.9 in /usr/local/lib/python3.6/dist-packages (from folium>=0.11.0->geemap) (2.11.2)\n",
            "Requirement already satisfied: branca>=0.3.0 in /usr/local/lib/python3.6/dist-packages (from folium>=0.11.0->geemap) (0.4.1)\n",
            "Requirement already satisfied: requests in /usr/local/lib/python3.6/dist-packages (from folium>=0.11.0->geemap) (2.23.0)\n",
            "Collecting beautifulsoup4>=4.9.0\n",
            "\u001b[?25l  Downloading https://files.pythonhosted.org/packages/e8/b5/7bb03a696f2c9b7af792a8f51b82974e51c268f15e925fc834876a4efa0b/beautifulsoup4-4.9.0-py3-none-any.whl (109kB)\n",
            "\u001b[K     |████████████████████████████████| 112kB 44.3MB/s \n",
            "\u001b[?25hCollecting logzero>=1.5.0\n",
            "  Downloading https://files.pythonhosted.org/packages/97/24/27295d318ea8976b12cf9cc51d82e7c7129220f6a3cc9e3443df3be8afdb/logzero-1.5.0-py2.py3-none-any.whl\n",
            "Collecting ratelim\n",
            "  Downloading https://files.pythonhosted.org/packages/f2/98/7e6d147fd16a10a5f821db6e25f192265d6ecca3d82957a4fdd592cad49c/ratelim-0.1.6-py2.py3-none-any.whl\n",
            "Requirement already satisfied: kiwisolver>=1.0.1 in /usr/local/lib/python3.6/dist-packages (from matplotlib->geemap) (1.2.0)\n",
            "Requirement already satisfied: python-dateutil>=2.1 in /usr/local/lib/python3.6/dist-packages (from matplotlib->geemap) (2.8.1)\n",
            "Requirement already satisfied: cycler>=0.10 in /usr/local/lib/python3.6/dist-packages (from matplotlib->geemap) (0.10.0)\n",
            "Requirement already satisfied: pyparsing!=2.0.4,!=2.1.2,!=2.1.6,>=2.0.1 in /usr/local/lib/python3.6/dist-packages (from matplotlib->geemap) (2.4.7)\n",
            "Requirement already satisfied: ipython-genutils in /usr/local/lib/python3.6/dist-packages (from traitlets>=4.3.0->bqplot->geemap) (0.2.0)\n",
            "Requirement already satisfied: decorator in /usr/local/lib/python3.6/dist-packages (from traitlets>=4.3.0->bqplot->geemap) (4.4.2)\n",
            "Requirement already satisfied: widgetsnbextension~=3.5.0 in /usr/local/lib/python3.6/dist-packages (from ipywidgets>=7.5.0->bqplot->geemap) (3.5.1)\n",
            "Requirement already satisfied: nbformat>=4.2.0 in /usr/local/lib/python3.6/dist-packages (from ipywidgets>=7.5.0->bqplot->geemap) (5.0.6)\n",
            "Requirement already satisfied: ipython>=4.0.0; python_version >= \"3.3\" in /usr/local/lib/python3.6/dist-packages (from ipywidgets>=7.5.0->bqplot->geemap) (5.5.0)\n",
            "Requirement already satisfied: ipykernel>=4.5.1 in /usr/local/lib/python3.6/dist-packages (from ipywidgets>=7.5.0->bqplot->geemap) (4.10.1)\n",
            "Requirement already satisfied: pytz>=2017.2 in /usr/local/lib/python3.6/dist-packages (from pandas->bqplot->geemap) (2018.9)\n",
            "Requirement already satisfied: setuptools>=40.3.0 in /usr/local/lib/python3.6/dist-packages (from google-auth>=1.4.1->earthengine-api->geemap) (46.3.0)\n",
            "Requirement already satisfied: pyasn1-modules>=0.2.1 in /usr/local/lib/python3.6/dist-packages (from google-auth>=1.4.1->earthengine-api->geemap) (0.2.8)\n",
            "Requirement already satisfied: rsa<4.1,>=3.1.4 in /usr/local/lib/python3.6/dist-packages (from google-auth>=1.4.1->earthengine-api->geemap) (4.0)\n",
            "Requirement already satisfied: cachetools<3.2,>=2.0.0 in /usr/local/lib/python3.6/dist-packages (from google-auth>=1.4.1->earthengine-api->geemap) (3.1.1)\n",
            "Requirement already satisfied: uritemplate<4dev,>=3.0.0 in /usr/local/lib/python3.6/dist-packages (from google-api-python-client->earthengine-api->geemap) (3.0.1)\n",
            "Requirement already satisfied: google-cloud-core<2.0dev,>=1.0.0 in /usr/local/lib/python3.6/dist-packages (from google-cloud-storage->earthengine-api->geemap) (1.0.3)\n",
            "Requirement already satisfied: google-resumable-media<0.5.0dev,>=0.3.1 in /usr/local/lib/python3.6/dist-packages (from google-cloud-storage->earthengine-api->geemap) (0.4.1)\n",
            "Requirement already satisfied: urllib3 in /usr/local/lib/python3.6/dist-packages (from httplib2shim->earthengine-api->geemap) (1.24.3)\n",
            "Requirement already satisfied: certifi in /usr/local/lib/python3.6/dist-packages (from httplib2shim->earthengine-api->geemap) (2020.4.5.1)\n",
            "Requirement already satisfied: MarkupSafe>=0.23 in /usr/local/lib/python3.6/dist-packages (from jinja2>=2.9->folium>=0.11.0->geemap) (1.1.1)\n",
            "Requirement already satisfied: idna<3,>=2.5 in /usr/local/lib/python3.6/dist-packages (from requests->folium>=0.11.0->geemap) (2.9)\n",
            "Requirement already satisfied: chardet<4,>=3.0.2 in /usr/local/lib/python3.6/dist-packages (from requests->folium>=0.11.0->geemap) (3.0.4)\n",
            "Collecting soupsieve>1.2\n",
            "  Downloading https://files.pythonhosted.org/packages/6f/8f/457f4a5390eeae1cc3aeab89deb7724c965be841ffca6cfca9197482e470/soupsieve-2.0.1-py3-none-any.whl\n",
            "Requirement already satisfied: notebook>=4.4.1 in /usr/local/lib/python3.6/dist-packages (from widgetsnbextension~=3.5.0->ipywidgets>=7.5.0->bqplot->geemap) (5.2.2)\n",
            "Requirement already satisfied: jupyter-core in /usr/local/lib/python3.6/dist-packages (from nbformat>=4.2.0->ipywidgets>=7.5.0->bqplot->geemap) (4.6.3)\n",
            "Requirement already satisfied: jsonschema!=2.5.0,>=2.4 in /usr/local/lib/python3.6/dist-packages (from nbformat>=4.2.0->ipywidgets>=7.5.0->bqplot->geemap) (2.6.0)\n",
            "Requirement already satisfied: pexpect; sys_platform != \"win32\" in /usr/local/lib/python3.6/dist-packages (from ipython>=4.0.0; python_version >= \"3.3\"->ipywidgets>=7.5.0->bqplot->geemap) (4.8.0)\n",
            "Requirement already satisfied: pickleshare in /usr/local/lib/python3.6/dist-packages (from ipython>=4.0.0; python_version >= \"3.3\"->ipywidgets>=7.5.0->bqplot->geemap) (0.7.5)\n",
            "Requirement already satisfied: pygments in /usr/local/lib/python3.6/dist-packages (from ipython>=4.0.0; python_version >= \"3.3\"->ipywidgets>=7.5.0->bqplot->geemap) (2.1.3)\n",
            "Requirement already satisfied: simplegeneric>0.8 in /usr/local/lib/python3.6/dist-packages (from ipython>=4.0.0; python_version >= \"3.3\"->ipywidgets>=7.5.0->bqplot->geemap) (0.8.1)\n",
            "Requirement already satisfied: prompt-toolkit<2.0.0,>=1.0.4 in /usr/local/lib/python3.6/dist-packages (from ipython>=4.0.0; python_version >= \"3.3\"->ipywidgets>=7.5.0->bqplot->geemap) (1.0.18)\n",
            "Requirement already satisfied: jupyter-client in /usr/local/lib/python3.6/dist-packages (from ipykernel>=4.5.1->ipywidgets>=7.5.0->bqplot->geemap) (5.3.4)\n",
            "Requirement already satisfied: tornado>=4.0 in /usr/local/lib/python3.6/dist-packages (from ipykernel>=4.5.1->ipywidgets>=7.5.0->bqplot->geemap) (4.5.3)\n",
            "Requirement already satisfied: pyasn1<0.5.0,>=0.4.6 in /usr/local/lib/python3.6/dist-packages (from pyasn1-modules>=0.2.1->google-auth>=1.4.1->earthengine-api->geemap) (0.4.8)\n",
            "Requirement already satisfied: google-api-core<2.0.0dev,>=1.14.0 in /usr/local/lib/python3.6/dist-packages (from google-cloud-core<2.0dev,>=1.0.0->google-cloud-storage->earthengine-api->geemap) (1.16.0)\n",
            "Requirement already satisfied: nbconvert in /usr/local/lib/python3.6/dist-packages (from notebook>=4.4.1->widgetsnbextension~=3.5.0->ipywidgets>=7.5.0->bqplot->geemap) (5.6.1)\n",
            "Requirement already satisfied: terminado>=0.3.3; sys_platform != \"win32\" in /usr/local/lib/python3.6/dist-packages (from notebook>=4.4.1->widgetsnbextension~=3.5.0->ipywidgets>=7.5.0->bqplot->geemap) (0.8.3)\n",
            "Requirement already satisfied: ptyprocess>=0.5 in /usr/local/lib/python3.6/dist-packages (from pexpect; sys_platform != \"win32\"->ipython>=4.0.0; python_version >= \"3.3\"->ipywidgets>=7.5.0->bqplot->geemap) (0.6.0)\n",
            "Requirement already satisfied: wcwidth in /usr/local/lib/python3.6/dist-packages (from prompt-toolkit<2.0.0,>=1.0.4->ipython>=4.0.0; python_version >= \"3.3\"->ipywidgets>=7.5.0->bqplot->geemap) (0.1.9)\n",
            "Requirement already satisfied: pyzmq>=13 in /usr/local/lib/python3.6/dist-packages (from jupyter-client->ipykernel>=4.5.1->ipywidgets>=7.5.0->bqplot->geemap) (19.0.1)\n",
            "Requirement already satisfied: googleapis-common-protos<2.0dev,>=1.6.0 in /usr/local/lib/python3.6/dist-packages (from google-api-core<2.0.0dev,>=1.14.0->google-cloud-core<2.0dev,>=1.0.0->google-cloud-storage->earthengine-api->geemap) (1.51.0)\n",
            "Requirement already satisfied: protobuf>=3.4.0 in /usr/local/lib/python3.6/dist-packages (from google-api-core<2.0.0dev,>=1.14.0->google-cloud-core<2.0dev,>=1.0.0->google-cloud-storage->earthengine-api->geemap) (3.10.0)\n",
            "Requirement already satisfied: entrypoints>=0.2.2 in /usr/local/lib/python3.6/dist-packages (from nbconvert->notebook>=4.4.1->widgetsnbextension~=3.5.0->ipywidgets>=7.5.0->bqplot->geemap) (0.3)\n",
            "Requirement already satisfied: pandocfilters>=1.4.1 in /usr/local/lib/python3.6/dist-packages (from nbconvert->notebook>=4.4.1->widgetsnbextension~=3.5.0->ipywidgets>=7.5.0->bqplot->geemap) (1.4.2)\n",
            "Requirement already satisfied: mistune<2,>=0.8.1 in /usr/local/lib/python3.6/dist-packages (from nbconvert->notebook>=4.4.1->widgetsnbextension~=3.5.0->ipywidgets>=7.5.0->bqplot->geemap) (0.8.4)\n",
            "Requirement already satisfied: defusedxml in /usr/local/lib/python3.6/dist-packages (from nbconvert->notebook>=4.4.1->widgetsnbextension~=3.5.0->ipywidgets>=7.5.0->bqplot->geemap) (0.6.0)\n",
            "Requirement already satisfied: bleach in /usr/local/lib/python3.6/dist-packages (from nbconvert->notebook>=4.4.1->widgetsnbextension~=3.5.0->ipywidgets>=7.5.0->bqplot->geemap) (3.1.5)\n",
            "Requirement already satisfied: testpath in /usr/local/lib/python3.6/dist-packages (from nbconvert->notebook>=4.4.1->widgetsnbextension~=3.5.0->ipywidgets>=7.5.0->bqplot->geemap) (0.4.4)\n",
            "Requirement already satisfied: packaging in /usr/local/lib/python3.6/dist-packages (from bleach->nbconvert->notebook>=4.4.1->widgetsnbextension~=3.5.0->ipywidgets>=7.5.0->bqplot->geemap) (20.3)\n",
            "Requirement already satisfied: webencodings in /usr/local/lib/python3.6/dist-packages (from bleach->nbconvert->notebook>=4.4.1->widgetsnbextension~=3.5.0->ipywidgets>=7.5.0->bqplot->geemap) (0.5.1)\n",
            "Building wheels for collected packages: geemap, ipynb-py-convert, pyshp\n",
            "  Building wheel for geemap (setup.py) ... \u001b[?25l\u001b[?25hdone\n",
            "  Created wheel for geemap: filename=geemap-0.6.13-py2.py3-none-any.whl size=251294 sha256=58299d9c8ea21839121682c42251449c26e9ad9f02c5b90f16e434ed0275df34\n",
            "  Stored in directory: /root/.cache/pip/wheels/7c/59/eb/f3949611bebe4e09edf9125fd372d31d26c4e1e8d1aa977bed\n",
            "  Building wheel for ipynb-py-convert (setup.py) ... \u001b[?25l\u001b[?25hdone\n",
            "  Created wheel for ipynb-py-convert: filename=ipynb_py_convert-0.4.5-cp36-none-any.whl size=4323 sha256=0c4d5870779cff5e220192f61efe0d8f4e67117fd4e020fb6396b01a34651fc7\n",
            "  Stored in directory: /root/.cache/pip/wheels/d4/99/01/24932d0201ed03d2d9e129b40f8e933e8ab51329ed88380cdc\n",
            "  Building wheel for pyshp (setup.py) ... \u001b[?25l\u001b[?25hdone\n",
            "  Created wheel for pyshp: filename=pyshp-2.1.0-cp36-none-any.whl size=32609 sha256=64569d61a3d634dc3d408464171abcae71306afcdbf21009f0008f5c8f9240f8\n",
            "  Stored in directory: /root/.cache/pip/wheels/a6/0c/de/321b5192ad416b328975a2f0385f72c64db4656501eba7cc1a\n",
            "Successfully built geemap ipynb-py-convert pyshp\n",
            "\u001b[31mERROR: datascience 0.10.6 has requirement folium==0.2.1, but you'll have folium 0.11.0 which is incompatible.\u001b[0m\n",
            "\u001b[31mERROR: ipyleaflet 0.12.6 has requirement branca<0.4,>=0.3.1, but you'll have branca 0.4.1 which is incompatible.\u001b[0m\n",
            "Installing collected packages: traittypes, bqplot, colour, folium, soupsieve, beautifulsoup4, logzero, geeadd, ratelim, geocoder, ipyfilechooser, ipyleaflet, ipynb-py-convert, mss, pyshp, geemap\n",
            "  Found existing installation: folium 0.8.3\n",
            "    Uninstalling folium-0.8.3:\n",
            "      Successfully uninstalled folium-0.8.3\n",
            "  Found existing installation: beautifulsoup4 4.6.3\n",
            "    Uninstalling beautifulsoup4-4.6.3:\n",
            "      Successfully uninstalled beautifulsoup4-4.6.3\n",
            "Successfully installed beautifulsoup4-4.9.0 bqplot-0.12.11 colour-0.1.5 folium-0.11.0 geeadd-0.4.8 geemap-0.6.13 geocoder-1.38.1 ipyfilechooser-0.3.4 ipyleaflet-0.12.6 ipynb-py-convert-0.4.5 logzero-1.5.0 mss-5.1.0 pyshp-2.1.0 ratelim-0.1.6 soupsieve-2.0.1 traittypes-0.2.1\n"
          ],
          "name": "stdout"
        }
      ]
    },
    {
      "cell_type": "code",
      "metadata": {
        "id": "3uy1A75DMzl_",
        "colab_type": "code",
        "colab": {
          "base_uri": "https://localhost:8080/",
          "height": 171,
          "referenced_widgets": [
            "4e225a585b6e4968a3d66f1c6473c492"
          ]
        },
        "outputId": "f59f09a9-30d7-4b37-f7b0-c3a141de53a6"
      },
      "source": [
        "import geemap as gm\n",
        "m = gm.Map()\n",
        "\n",
        "m"
      ],
      "execution_count": 3,
      "outputs": [
        {
          "output_type": "stream",
          "text": [
            "To authorize access needed by Earth Engine, open the following URL in a web browser and follow the instructions. If the web browser does not start automatically, please manually browse the URL below.\n",
            "\n",
            "    https://accounts.google.com/o/oauth2/auth?client_id=517222506229-vsmmajv00ul0bs7p89v5m89qs8eb9359.apps.googleusercontent.com&scope=https%3A%2F%2Fwww.googleapis.com%2Fauth%2Fearthengine+https%3A%2F%2Fwww.googleapis.com%2Fauth%2Fdevstorage.full_control&redirect_uri=urn%3Aietf%3Awg%3Aoauth%3A2.0%3Aoob&response_type=code&code_challenge=vdWzX4Tb3WAb6I-sDS6ZU6v79eUqgPsCf2HXCCxWpJg&code_challenge_method=S256\n",
            "\n",
            "The authorization workflow will generate a code, which you should paste in the box below. \n",
            "Enter verification code: 4/zwF1KqMKSodGHnZj6wj4ds7M6QQD0attHe776367npobXsCL1a7oU1Q\n",
            "\n",
            "Successfully saved authorization token.\n"
          ],
          "name": "stdout"
        },
        {
          "output_type": "display_data",
          "data": {
            "application/vnd.jupyter.widget-view+json": {
              "model_id": "4e225a585b6e4968a3d66f1c6473c492",
              "version_minor": 0,
              "version_major": 2
            },
            "text/plain": [
              "Map(center=[40, -100], controls=(WidgetControl(options=['position'], widget=HBox(children=(ToggleButton(value=…"
            ]
          },
          "metadata": {
            "tags": []
          }
        }
      ]
    },
    {
      "cell_type": "code",
      "metadata": {
        "id": "kadesfaaM85P",
        "colab_type": "code",
        "colab": {
          "base_uri": "https://localhost:8080/",
          "height": 1000
        },
        "outputId": "d7197276-1474-4ad0-8bd5-2f41bcf3dfc4"
      },
      "source": [
        "m.add_basemap(\"ROADMAP\")"
      ],
      "execution_count": 5,
      "outputs": [
        {
          "output_type": "stream",
          "text": [
            "layer already on map: TileLayer(attribution='Google', name='Google Maps', options=['attribution', 'detect_retina', 'max_native_zoom', 'max_zoom', 'min_native_zoom', 'min_zoom', 'no_wrap', 'tile_size', 'tms'], url='https://mt1.google.com/vt/lyrs=m&x={x}&y={y}&z={z}')\n",
            "Basemap can only be one of the following:\n",
            "  ROADMAP\n",
            "  SATELLITE\n",
            "  TERRAIN\n",
            "  HYBRID\n",
            "  ESRI\n",
            "  Esri Ocean\n",
            "  Esri Satellite\n",
            "  Esri Standard\n",
            "  Esri Terrain\n",
            "  Esri Transportation\n",
            "  Esri Topo World\n",
            "  Esri National Geographic\n",
            "  Esri Shaded Relief\n",
            "  Esri Physical Map\n",
            "  FWS NWI Wetlands\n",
            "  FWS NWI Wetlands Raster\n",
            "  Google Maps\n",
            "  Google Satellite\n",
            "  Google Terrain\n",
            "  Google Satellite Hybrid\n",
            "  NLCD 2016 CONUS Land Cover\n",
            "  NLCD 2013 CONUS Land Cover\n",
            "  NLCD 2011 CONUS Land Cover\n",
            "  NLCD 2008 CONUS Land Cover\n",
            "  NLCD 2006 CONUS Land Cover\n",
            "  NLCD 2004 CONUS Land Cover\n",
            "  NLCD 2001 CONUS Land Cover\n",
            "  USGS NAIP Imagery\n",
            "  USGS Hydrography\n",
            "  USGS 3DEP Elevation\n",
            "  OpenStreetMap.Mapnik\n",
            "  OpenStreetMap.BlackAndWhite\n",
            "  OpenStreetMap.DE\n",
            "  OpenStreetMap.France\n",
            "  OpenStreetMap.HOT\n",
            "  OpenTopoMap\n",
            "  Hydda.Full\n",
            "  Hydda.Base\n",
            "  Esri.WorldStreetMap\n",
            "  Esri.DeLorme\n",
            "  Esri.WorldTopoMap\n",
            "  Esri.WorldImagery\n",
            "  Esri.NatGeoWorldMap\n",
            "  HikeBike.HikeBike\n",
            "  MtbMap\n",
            "  CartoDB.Positron\n",
            "  CartoDB.DarkMatter\n",
            "  NASAGIBS.ModisTerraTrueColorCR\n",
            "  NASAGIBS.ModisTerraBands367CR\n",
            "  NASAGIBS.ModisTerraBands721CR\n",
            "  NASAGIBS.ModisAquaTrueColorCR\n",
            "  NASAGIBS.ModisAquaBands721CR\n",
            "  NASAGIBS.ViirsTrueColorCR\n",
            "  NASAGIBS.ViirsEarthAtNight2012\n",
            "  Strava.All\n",
            "  Strava.Ride\n",
            "  Strava.Run\n",
            "  Strava.Water\n",
            "  Strava.Winter\n",
            "  Stamen.Terrain\n",
            "  Stamen.Toner\n",
            "  Stamen.Watercolor\n"
          ],
          "name": "stdout"
        }
      ]
    }
  ]
}